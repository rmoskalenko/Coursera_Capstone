{
 "cells": [
  {
   "cell_type": "markdown",
   "metadata": {},
   "source": [
    "# Capstone Project - \"What is open at that time?\""
   ]
  },
  {
   "cell_type": "markdown",
   "metadata": {},
   "source": [
    "## Problem definition\n",
    "\n",
    "\"A description of the problem and a discussion of the background.\"\n",
    "\n",
    "The idea is simple. Help travellers to plan their trips around unusual schedule.\n",
    "\n",
    "A bit more context. Locals typically get up in the morning, work during day, then they they spend evening and night at home. Towns are full of life during the day and they become empty at night. And local businesses are built around that pattern. There are a lot of places providing breakfast, lunch or dinner. This is what most people need and this is what businesses, advertizement, guides and other services are focusing on.\n",
    "\n",
    "However, there are categories of people who have different schedule. I am a frequent traveller myself and when I plan my trip to some destination, I'd like to stay in some area close to my destination but at the same time with some venues open at the time when I need need it.\n",
    "\n",
    "This is not a simple task now. Google allows you to find what is open now (not very useful) or what is open 24 hours (not a lot of options), but it doesn't tell you what will be open at 1 am. There are local guides, but they are usually focused on touristy areas. \n",
    "\n",
    "So the idea of this project is to allow to find the areas with open venues at specified time close to a given location.\n",
    "\n",
    "A typical case would be someone going on a business trip to a random place, not nessesary a touristy one and trying to decide what would be a good area to stay at based on the schedule."
   ]
  },
  {
   "cell_type": "markdown",
   "metadata": {},
   "source": [
    "## Data for solving the problem\n",
    "\n",
    "\"A description of the data and how it will be used to solve the problem. \"\n",
    "\n",
    "\n",
    "On a high level, to solve this problem, we'd need to have the following data:\n",
    "\n",
    "1. List of venues\n",
    "2. Their addresses and location\n",
    "3. Type of venues\n",
    "4. Schedule\n",
    "\n",
    "Actually, Foursquare database already has all that information available. However, it doesn't provide a good way to query based on the schedule. The available filters can either query what is \"Open Now\" or to select some predefined \"Nightlife category\". \n",
    "\n",
    "So the idea is to use Foursquare data to query venues open at specific hours.\n",
    "\n",
    "The output will be presented on a map in a form of identified clusters of activity."
   ]
  },
  {
   "cell_type": "code",
   "execution_count": null,
   "metadata": {},
   "outputs": [],
   "source": []
  }
 ],
 "metadata": {
  "kernelspec": {
   "display_name": "Python 3",
   "language": "python",
   "name": "python3"
  },
  "language_info": {
   "codemirror_mode": {
    "name": "ipython",
    "version": 3
   },
   "file_extension": ".py",
   "mimetype": "text/x-python",
   "name": "python",
   "nbconvert_exporter": "python",
   "pygments_lexer": "ipython3",
   "version": "3.7.3"
  }
 },
 "nbformat": 4,
 "nbformat_minor": 4
}
